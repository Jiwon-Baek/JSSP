{
 "cells": [
  {
   "cell_type": "code",
   "execution_count": 6,
   "id": "initial_id",
   "metadata": {
    "collapsed": true,
    "ExecuteTime": {
     "end_time": "2024-03-04T09:07:37.226687600Z",
     "start_time": "2024-03-04T09:07:37.216910300Z"
    }
   },
   "outputs": [],
   "source": [
    "import pandas as pd\n",
    "file_path = 'abz5.txt'\n",
    "data = pd.read_csv(file_path, sep=\"\\t\", engine = 'python', encoding = \"cp949\", skiprows=[0], header=None)\n",
    "\n",
    "# 파일 열기 및 첫 번째 줄 읽기\n",
    "with open(file_path, 'r') as file:\n",
    "    first_line = file.readline()\n",
    "\n",
    "# Tab으로 구분된 값을 분리하여 변수에 저장\n",
    "n_job, n_machine = map(int, first_line.strip().split('\\t'))"
   ]
  },
  {
   "cell_type": "code",
   "execution_count": 7,
   "outputs": [],
   "source": [
    "data = pd.read_csv(file_path, sep=\"\\t\", engine='python', encoding=\"cp949\", skiprows=[0], header=None)\n",
    "op_data = []\n",
    "for i in range(n_job):\n",
    "    op_data.append([])\n",
    "    for j in range(n_machine):\n",
    "        op_data[i].append((data.iloc[10 + i, j] - 1, data.iloc[i, j]))"
   ],
   "metadata": {
    "collapsed": false,
    "ExecuteTime": {
     "end_time": "2024-03-04T09:07:45.542818100Z",
     "start_time": "2024-03-04T09:07:45.506259200Z"
    }
   },
   "id": "421620252139a7a"
  },
  {
   "cell_type": "code",
   "execution_count": 8,
   "outputs": [
    {
     "data": {
      "text/plain": "[[(4, 88),\n  (8, 68),\n  (6, 94),\n  (5, 99),\n  (1, 67),\n  (2, 89),\n  (9, 77),\n  (7, 99),\n  (0, 86),\n  (3, 92)],\n [(5, 72),\n  (3, 50),\n  (6, 69),\n  (4, 75),\n  (2, 94),\n  (8, 66),\n  (0, 92),\n  (1, 82),\n  (7, 94),\n  (9, 63)],\n [(9, 83),\n  (8, 61),\n  (0, 83),\n  (1, 65),\n  (6, 64),\n  (5, 85),\n  (7, 78),\n  (4, 85),\n  (2, 55),\n  (3, 77)],\n [(7, 94),\n  (2, 68),\n  (1, 61),\n  (4, 99),\n  (3, 54),\n  (6, 75),\n  (5, 66),\n  (0, 76),\n  (9, 63),\n  (8, 67)],\n [(3, 69),\n  (4, 88),\n  (9, 82),\n  (8, 95),\n  (0, 99),\n  (2, 67),\n  (6, 95),\n  (5, 68),\n  (7, 67),\n  (1, 86)],\n [(1, 99),\n  (4, 81),\n  (5, 64),\n  (6, 66),\n  (8, 80),\n  (2, 80),\n  (7, 69),\n  (9, 62),\n  (3, 79),\n  (0, 88)],\n [(7, 50),\n  (1, 86),\n  (4, 97),\n  (3, 96),\n  (0, 95),\n  (8, 97),\n  (2, 66),\n  (5, 99),\n  (6, 52),\n  (9, 71)],\n [(4, 98),\n  (6, 73),\n  (3, 82),\n  (2, 51),\n  (1, 71),\n  (5, 94),\n  (7, 85),\n  (0, 62),\n  (8, 95),\n  (9, 79)],\n [(0, 94),\n  (6, 71),\n  (3, 81),\n  (7, 85),\n  (1, 66),\n  (2, 90),\n  (4, 76),\n  (5, 58),\n  (8, 93),\n  (9, 97)],\n [(3, 50),\n  (0, 59),\n  (1, 82),\n  (8, 67),\n  (7, 56),\n  (9, 96),\n  (6, 58),\n  (4, 81),\n  (5, 59),\n  (2, 96)]]"
     },
     "execution_count": 8,
     "metadata": {},
     "output_type": "execute_result"
    }
   ],
   "source": [
    "op_data\n"
   ],
   "metadata": {
    "collapsed": false,
    "ExecuteTime": {
     "end_time": "2024-03-04T09:07:50.200911100Z",
     "start_time": "2024-03-04T09:07:50.183664200Z"
    }
   },
   "id": "c37c92a1d3431ce1"
  },
  {
   "cell_type": "code",
   "execution_count": null,
   "outputs": [],
   "source": [],
   "metadata": {
    "collapsed": false
   },
   "id": "c8039c99cfaaf947"
  }
 ],
 "metadata": {
  "kernelspec": {
   "display_name": "Python 3",
   "language": "python",
   "name": "python3"
  },
  "language_info": {
   "codemirror_mode": {
    "name": "ipython",
    "version": 2
   },
   "file_extension": ".py",
   "mimetype": "text/x-python",
   "name": "python",
   "nbconvert_exporter": "python",
   "pygments_lexer": "ipython2",
   "version": "2.7.6"
  }
 },
 "nbformat": 4,
 "nbformat_minor": 5
}
